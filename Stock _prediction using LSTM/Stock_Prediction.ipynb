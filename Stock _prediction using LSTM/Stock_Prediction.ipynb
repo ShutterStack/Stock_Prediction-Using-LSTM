{
  "cells": [
    {
      "cell_type": "code",
      "execution_count": 32,
      "id": "f91eb4e9",
      "metadata": {
        "id": "f91eb4e9"
      },
      "outputs": [],
      "source": [
        "#facebook finance as data source\n",
        "#pip install yfinance\n",
        "import yfinance as yf"
      ]
    },
    {
      "cell_type": "code",
      "execution_count": 33,
      "id": "ee00f18c",
      "metadata": {
        "id": "ee00f18c"
      },
      "outputs": [],
      "source": [
        "#See the facebook finance ticker for your stock symbol\n",
        "stock_symbol = 'GAIL.NS'"
      ]
    },
    {
      "cell_type": "code",
      "execution_count": 4,
      "id": "d365868a",
      "metadata": {
        "colab": {
          "base_uri": "https://localhost:8080/"
        },
        "id": "d365868a",
        "outputId": "518483cb-e324-42fd-cbbf-480b6a0a23ad"
      },
      "outputs": [
        {
          "output_type": "stream",
          "name": "stdout",
          "text": [
            "\r[*********************100%***********************]  1 of 1 completed\n"
          ]
        }
      ],
      "source": [
        "#last 5 years data with interval of 1 day\n",
        "data = yf.download(tickers=stock_symbol,period='5y',interval='1d')"
      ]
    },
    {
      "cell_type": "code",
      "execution_count": 5,
      "id": "9f82e205",
      "metadata": {
        "colab": {
          "base_uri": "https://localhost:8080/"
        },
        "id": "9f82e205",
        "outputId": "96957831-d46c-4bc6-c9c9-9b5bab5c8386"
      },
      "outputs": [
        {
          "output_type": "execute_result",
          "data": {
            "text/plain": [
              "pandas.core.frame.DataFrame"
            ]
          },
          "metadata": {},
          "execution_count": 5
        }
      ],
      "source": [
        "type(data)"
      ]
    },
    {
      "cell_type": "code",
      "execution_count": 6,
      "id": "dbbe3e6b",
      "metadata": {
        "colab": {
          "base_uri": "https://localhost:8080/",
          "height": 281
        },
        "id": "dbbe3e6b",
        "outputId": "eb8c3c1d-202c-4f6b-bfe9-3f192736e3bf"
      },
      "outputs": [
        {
          "output_type": "execute_result",
          "data": {
            "text/plain": [
              "                  Open        High         Low       Close   Adj Close  \\\n",
              "Date                                                                     \n",
              "2018-08-13  121.316666  126.500000  121.000000  125.150002   99.480835   \n",
              "2018-08-14  124.883331  128.083328  124.216667  126.599998  100.633430   \n",
              "2018-08-16  126.566666  133.133331  126.366669  131.266663  104.342918   \n",
              "2018-08-17  131.333328  132.199997  128.066666  129.233337  102.726646   \n",
              "2018-08-20  130.033340  130.666672  125.000000  126.349998  100.434700   \n",
              "\n",
              "              Volume  \n",
              "Date                  \n",
              "2018-08-13  31544757  \n",
              "2018-08-14  14297979  \n",
              "2018-08-16  45437358  \n",
              "2018-08-17  13509201  \n",
              "2018-08-20  15107493  "
            ],
            "text/html": [
              "\n",
              "\n",
              "  <div id=\"df-90a2445f-c23f-4aa9-9f83-c25c562ee5e8\">\n",
              "    <div class=\"colab-df-container\">\n",
              "      <div>\n",
              "<style scoped>\n",
              "    .dataframe tbody tr th:only-of-type {\n",
              "        vertical-align: middle;\n",
              "    }\n",
              "\n",
              "    .dataframe tbody tr th {\n",
              "        vertical-align: top;\n",
              "    }\n",
              "\n",
              "    .dataframe thead th {\n",
              "        text-align: right;\n",
              "    }\n",
              "</style>\n",
              "<table border=\"1\" class=\"dataframe\">\n",
              "  <thead>\n",
              "    <tr style=\"text-align: right;\">\n",
              "      <th></th>\n",
              "      <th>Open</th>\n",
              "      <th>High</th>\n",
              "      <th>Low</th>\n",
              "      <th>Close</th>\n",
              "      <th>Adj Close</th>\n",
              "      <th>Volume</th>\n",
              "    </tr>\n",
              "    <tr>\n",
              "      <th>Date</th>\n",
              "      <th></th>\n",
              "      <th></th>\n",
              "      <th></th>\n",
              "      <th></th>\n",
              "      <th></th>\n",
              "      <th></th>\n",
              "    </tr>\n",
              "  </thead>\n",
              "  <tbody>\n",
              "    <tr>\n",
              "      <th>2018-08-13</th>\n",
              "      <td>121.316666</td>\n",
              "      <td>126.500000</td>\n",
              "      <td>121.000000</td>\n",
              "      <td>125.150002</td>\n",
              "      <td>99.480835</td>\n",
              "      <td>31544757</td>\n",
              "    </tr>\n",
              "    <tr>\n",
              "      <th>2018-08-14</th>\n",
              "      <td>124.883331</td>\n",
              "      <td>128.083328</td>\n",
              "      <td>124.216667</td>\n",
              "      <td>126.599998</td>\n",
              "      <td>100.633430</td>\n",
              "      <td>14297979</td>\n",
              "    </tr>\n",
              "    <tr>\n",
              "      <th>2018-08-16</th>\n",
              "      <td>126.566666</td>\n",
              "      <td>133.133331</td>\n",
              "      <td>126.366669</td>\n",
              "      <td>131.266663</td>\n",
              "      <td>104.342918</td>\n",
              "      <td>45437358</td>\n",
              "    </tr>\n",
              "    <tr>\n",
              "      <th>2018-08-17</th>\n",
              "      <td>131.333328</td>\n",
              "      <td>132.199997</td>\n",
              "      <td>128.066666</td>\n",
              "      <td>129.233337</td>\n",
              "      <td>102.726646</td>\n",
              "      <td>13509201</td>\n",
              "    </tr>\n",
              "    <tr>\n",
              "      <th>2018-08-20</th>\n",
              "      <td>130.033340</td>\n",
              "      <td>130.666672</td>\n",
              "      <td>125.000000</td>\n",
              "      <td>126.349998</td>\n",
              "      <td>100.434700</td>\n",
              "      <td>15107493</td>\n",
              "    </tr>\n",
              "  </tbody>\n",
              "</table>\n",
              "</div>\n",
              "      <button class=\"colab-df-convert\" onclick=\"convertToInteractive('df-90a2445f-c23f-4aa9-9f83-c25c562ee5e8')\"\n",
              "              title=\"Convert this dataframe to an interactive table.\"\n",
              "              style=\"display:none;\">\n",
              "\n",
              "  <svg xmlns=\"http://www.w3.org/2000/svg\" height=\"24px\"viewBox=\"0 0 24 24\"\n",
              "       width=\"24px\">\n",
              "    <path d=\"M0 0h24v24H0V0z\" fill=\"none\"/>\n",
              "    <path d=\"M18.56 5.44l.94 2.06.94-2.06 2.06-.94-2.06-.94-.94-2.06-.94 2.06-2.06.94zm-11 1L8.5 8.5l.94-2.06 2.06-.94-2.06-.94L8.5 2.5l-.94 2.06-2.06.94zm10 10l.94 2.06.94-2.06 2.06-.94-2.06-.94-.94-2.06-.94 2.06-2.06.94z\"/><path d=\"M17.41 7.96l-1.37-1.37c-.4-.4-.92-.59-1.43-.59-.52 0-1.04.2-1.43.59L10.3 9.45l-7.72 7.72c-.78.78-.78 2.05 0 2.83L4 21.41c.39.39.9.59 1.41.59.51 0 1.02-.2 1.41-.59l7.78-7.78 2.81-2.81c.8-.78.8-2.07 0-2.86zM5.41 20L4 18.59l7.72-7.72 1.47 1.35L5.41 20z\"/>\n",
              "  </svg>\n",
              "      </button>\n",
              "\n",
              "\n",
              "\n",
              "    <div id=\"df-c4c16c72-e0db-4f6c-b0a3-7eb6417b3a78\">\n",
              "      <button class=\"colab-df-quickchart\" onclick=\"quickchart('df-c4c16c72-e0db-4f6c-b0a3-7eb6417b3a78')\"\n",
              "              title=\"Suggest charts.\"\n",
              "              style=\"display:none;\">\n",
              "\n",
              "<svg xmlns=\"http://www.w3.org/2000/svg\" height=\"24px\"viewBox=\"0 0 24 24\"\n",
              "     width=\"24px\">\n",
              "    <g>\n",
              "        <path d=\"M19 3H5c-1.1 0-2 .9-2 2v14c0 1.1.9 2 2 2h14c1.1 0 2-.9 2-2V5c0-1.1-.9-2-2-2zM9 17H7v-7h2v7zm4 0h-2V7h2v10zm4 0h-2v-4h2v4z\"/>\n",
              "    </g>\n",
              "</svg>\n",
              "      </button>\n",
              "    </div>\n",
              "\n",
              "<style>\n",
              "  .colab-df-quickchart {\n",
              "    background-color: #E8F0FE;\n",
              "    border: none;\n",
              "    border-radius: 50%;\n",
              "    cursor: pointer;\n",
              "    display: none;\n",
              "    fill: #1967D2;\n",
              "    height: 32px;\n",
              "    padding: 0 0 0 0;\n",
              "    width: 32px;\n",
              "  }\n",
              "\n",
              "  .colab-df-quickchart:hover {\n",
              "    background-color: #E2EBFA;\n",
              "    box-shadow: 0px 1px 2px rgba(60, 64, 67, 0.3), 0px 1px 3px 1px rgba(60, 64, 67, 0.15);\n",
              "    fill: #174EA6;\n",
              "  }\n",
              "\n",
              "  [theme=dark] .colab-df-quickchart {\n",
              "    background-color: #3B4455;\n",
              "    fill: #D2E3FC;\n",
              "  }\n",
              "\n",
              "  [theme=dark] .colab-df-quickchart:hover {\n",
              "    background-color: #434B5C;\n",
              "    box-shadow: 0px 1px 3px 1px rgba(0, 0, 0, 0.15);\n",
              "    filter: drop-shadow(0px 1px 2px rgba(0, 0, 0, 0.3));\n",
              "    fill: #FFFFFF;\n",
              "  }\n",
              "</style>\n",
              "\n",
              "    <script>\n",
              "      async function quickchart(key) {\n",
              "        const containerElement = document.querySelector('#' + key);\n",
              "        const charts = await google.colab.kernel.invokeFunction(\n",
              "            'suggestCharts', [key], {});\n",
              "      }\n",
              "    </script>\n",
              "\n",
              "      <script>\n",
              "\n",
              "function displayQuickchartButton(domScope) {\n",
              "  let quickchartButtonEl =\n",
              "    domScope.querySelector('#df-c4c16c72-e0db-4f6c-b0a3-7eb6417b3a78 button.colab-df-quickchart');\n",
              "  quickchartButtonEl.style.display =\n",
              "    google.colab.kernel.accessAllowed ? 'block' : 'none';\n",
              "}\n",
              "\n",
              "        displayQuickchartButton(document);\n",
              "      </script>\n",
              "      <style>\n",
              "    .colab-df-container {\n",
              "      display:flex;\n",
              "      flex-wrap:wrap;\n",
              "      gap: 12px;\n",
              "    }\n",
              "\n",
              "    .colab-df-convert {\n",
              "      background-color: #E8F0FE;\n",
              "      border: none;\n",
              "      border-radius: 50%;\n",
              "      cursor: pointer;\n",
              "      display: none;\n",
              "      fill: #1967D2;\n",
              "      height: 32px;\n",
              "      padding: 0 0 0 0;\n",
              "      width: 32px;\n",
              "    }\n",
              "\n",
              "    .colab-df-convert:hover {\n",
              "      background-color: #E2EBFA;\n",
              "      box-shadow: 0px 1px 2px rgba(60, 64, 67, 0.3), 0px 1px 3px 1px rgba(60, 64, 67, 0.15);\n",
              "      fill: #174EA6;\n",
              "    }\n",
              "\n",
              "    [theme=dark] .colab-df-convert {\n",
              "      background-color: #3B4455;\n",
              "      fill: #D2E3FC;\n",
              "    }\n",
              "\n",
              "    [theme=dark] .colab-df-convert:hover {\n",
              "      background-color: #434B5C;\n",
              "      box-shadow: 0px 1px 3px 1px rgba(0, 0, 0, 0.15);\n",
              "      filter: drop-shadow(0px 1px 2px rgba(0, 0, 0, 0.3));\n",
              "      fill: #FFFFFF;\n",
              "    }\n",
              "  </style>\n",
              "\n",
              "      <script>\n",
              "        const buttonEl =\n",
              "          document.querySelector('#df-90a2445f-c23f-4aa9-9f83-c25c562ee5e8 button.colab-df-convert');\n",
              "        buttonEl.style.display =\n",
              "          google.colab.kernel.accessAllowed ? 'block' : 'none';\n",
              "\n",
              "        async function convertToInteractive(key) {\n",
              "          const element = document.querySelector('#df-90a2445f-c23f-4aa9-9f83-c25c562ee5e8');\n",
              "          const dataTable =\n",
              "            await google.colab.kernel.invokeFunction('convertToInteractive',\n",
              "                                                     [key], {});\n",
              "          if (!dataTable) return;\n",
              "\n",
              "          const docLinkHtml = 'Like what you see? Visit the ' +\n",
              "            '<a target=\"_blank\" href=https://colab.research.google.com/notebooks/data_table.ipynb>data table notebook</a>'\n",
              "            + ' to learn more about interactive tables.';\n",
              "          element.innerHTML = '';\n",
              "          dataTable['output_type'] = 'display_data';\n",
              "          await google.colab.output.renderOutput(dataTable, element);\n",
              "          const docLink = document.createElement('div');\n",
              "          docLink.innerHTML = docLinkHtml;\n",
              "          element.appendChild(docLink);\n",
              "        }\n",
              "      </script>\n",
              "    </div>\n",
              "  </div>\n"
            ]
          },
          "metadata": {},
          "execution_count": 6
        }
      ],
      "source": [
        "data.head()"
      ]
    },
    {
      "cell_type": "code",
      "execution_count": 7,
      "id": "9d445949",
      "metadata": {
        "colab": {
          "base_uri": "https://localhost:8080/"
        },
        "id": "9d445949",
        "outputId": "a5c307a2-82bf-428a-9cc4-f17e4a254fac"
      },
      "outputs": [
        {
          "output_type": "execute_result",
          "data": {
            "text/plain": [
              "1234"
            ]
          },
          "metadata": {},
          "execution_count": 7
        }
      ],
      "source": [
        "len(data)"
      ]
    },
    {
      "cell_type": "code",
      "execution_count": 8,
      "id": "bf283ad5",
      "metadata": {
        "colab": {
          "base_uri": "https://localhost:8080/",
          "height": 281
        },
        "id": "bf283ad5",
        "outputId": "124af693-5197-4fb1-f424-317da7b0af92"
      },
      "outputs": [
        {
          "output_type": "execute_result",
          "data": {
            "text/plain": [
              "                  Open        High         Low       Close   Adj Close  \\\n",
              "Date                                                                     \n",
              "2023-08-07  116.000000  116.550003  114.099998  114.250000  114.250000   \n",
              "2023-08-08  114.300003  116.699997  114.099998  116.400002  116.400002   \n",
              "2023-08-09  116.949997  118.150002  115.599998  117.900002  117.900002   \n",
              "2023-08-10  118.599998  119.099998  117.050003  117.599998  117.599998   \n",
              "2023-08-11  118.050003  118.300003  115.400002  115.699997  115.699997   \n",
              "\n",
              "              Volume  \n",
              "Date                  \n",
              "2023-08-07  11480767  \n",
              "2023-08-08  16636302  \n",
              "2023-08-09  11556651  \n",
              "2023-08-10  13140800  \n",
              "2023-08-11  10818126  "
            ],
            "text/html": [
              "\n",
              "\n",
              "  <div id=\"df-2869b277-567f-497c-9477-97230c05586b\">\n",
              "    <div class=\"colab-df-container\">\n",
              "      <div>\n",
              "<style scoped>\n",
              "    .dataframe tbody tr th:only-of-type {\n",
              "        vertical-align: middle;\n",
              "    }\n",
              "\n",
              "    .dataframe tbody tr th {\n",
              "        vertical-align: top;\n",
              "    }\n",
              "\n",
              "    .dataframe thead th {\n",
              "        text-align: right;\n",
              "    }\n",
              "</style>\n",
              "<table border=\"1\" class=\"dataframe\">\n",
              "  <thead>\n",
              "    <tr style=\"text-align: right;\">\n",
              "      <th></th>\n",
              "      <th>Open</th>\n",
              "      <th>High</th>\n",
              "      <th>Low</th>\n",
              "      <th>Close</th>\n",
              "      <th>Adj Close</th>\n",
              "      <th>Volume</th>\n",
              "    </tr>\n",
              "    <tr>\n",
              "      <th>Date</th>\n",
              "      <th></th>\n",
              "      <th></th>\n",
              "      <th></th>\n",
              "      <th></th>\n",
              "      <th></th>\n",
              "      <th></th>\n",
              "    </tr>\n",
              "  </thead>\n",
              "  <tbody>\n",
              "    <tr>\n",
              "      <th>2023-08-07</th>\n",
              "      <td>116.000000</td>\n",
              "      <td>116.550003</td>\n",
              "      <td>114.099998</td>\n",
              "      <td>114.250000</td>\n",
              "      <td>114.250000</td>\n",
              "      <td>11480767</td>\n",
              "    </tr>\n",
              "    <tr>\n",
              "      <th>2023-08-08</th>\n",
              "      <td>114.300003</td>\n",
              "      <td>116.699997</td>\n",
              "      <td>114.099998</td>\n",
              "      <td>116.400002</td>\n",
              "      <td>116.400002</td>\n",
              "      <td>16636302</td>\n",
              "    </tr>\n",
              "    <tr>\n",
              "      <th>2023-08-09</th>\n",
              "      <td>116.949997</td>\n",
              "      <td>118.150002</td>\n",
              "      <td>115.599998</td>\n",
              "      <td>117.900002</td>\n",
              "      <td>117.900002</td>\n",
              "      <td>11556651</td>\n",
              "    </tr>\n",
              "    <tr>\n",
              "      <th>2023-08-10</th>\n",
              "      <td>118.599998</td>\n",
              "      <td>119.099998</td>\n",
              "      <td>117.050003</td>\n",
              "      <td>117.599998</td>\n",
              "      <td>117.599998</td>\n",
              "      <td>13140800</td>\n",
              "    </tr>\n",
              "    <tr>\n",
              "      <th>2023-08-11</th>\n",
              "      <td>118.050003</td>\n",
              "      <td>118.300003</td>\n",
              "      <td>115.400002</td>\n",
              "      <td>115.699997</td>\n",
              "      <td>115.699997</td>\n",
              "      <td>10818126</td>\n",
              "    </tr>\n",
              "  </tbody>\n",
              "</table>\n",
              "</div>\n",
              "      <button class=\"colab-df-convert\" onclick=\"convertToInteractive('df-2869b277-567f-497c-9477-97230c05586b')\"\n",
              "              title=\"Convert this dataframe to an interactive table.\"\n",
              "              style=\"display:none;\">\n",
              "\n",
              "  <svg xmlns=\"http://www.w3.org/2000/svg\" height=\"24px\"viewBox=\"0 0 24 24\"\n",
              "       width=\"24px\">\n",
              "    <path d=\"M0 0h24v24H0V0z\" fill=\"none\"/>\n",
              "    <path d=\"M18.56 5.44l.94 2.06.94-2.06 2.06-.94-2.06-.94-.94-2.06-.94 2.06-2.06.94zm-11 1L8.5 8.5l.94-2.06 2.06-.94-2.06-.94L8.5 2.5l-.94 2.06-2.06.94zm10 10l.94 2.06.94-2.06 2.06-.94-2.06-.94-.94-2.06-.94 2.06-2.06.94z\"/><path d=\"M17.41 7.96l-1.37-1.37c-.4-.4-.92-.59-1.43-.59-.52 0-1.04.2-1.43.59L10.3 9.45l-7.72 7.72c-.78.78-.78 2.05 0 2.83L4 21.41c.39.39.9.59 1.41.59.51 0 1.02-.2 1.41-.59l7.78-7.78 2.81-2.81c.8-.78.8-2.07 0-2.86zM5.41 20L4 18.59l7.72-7.72 1.47 1.35L5.41 20z\"/>\n",
              "  </svg>\n",
              "      </button>\n",
              "\n",
              "\n",
              "\n",
              "    <div id=\"df-f7565fbd-a58e-43db-977c-4530a34715a7\">\n",
              "      <button class=\"colab-df-quickchart\" onclick=\"quickchart('df-f7565fbd-a58e-43db-977c-4530a34715a7')\"\n",
              "              title=\"Suggest charts.\"\n",
              "              style=\"display:none;\">\n",
              "\n",
              "<svg xmlns=\"http://www.w3.org/2000/svg\" height=\"24px\"viewBox=\"0 0 24 24\"\n",
              "     width=\"24px\">\n",
              "    <g>\n",
              "        <path d=\"M19 3H5c-1.1 0-2 .9-2 2v14c0 1.1.9 2 2 2h14c1.1 0 2-.9 2-2V5c0-1.1-.9-2-2-2zM9 17H7v-7h2v7zm4 0h-2V7h2v10zm4 0h-2v-4h2v4z\"/>\n",
              "    </g>\n",
              "</svg>\n",
              "      </button>\n",
              "    </div>\n",
              "\n",
              "<style>\n",
              "  .colab-df-quickchart {\n",
              "    background-color: #E8F0FE;\n",
              "    border: none;\n",
              "    border-radius: 50%;\n",
              "    cursor: pointer;\n",
              "    display: none;\n",
              "    fill: #1967D2;\n",
              "    height: 32px;\n",
              "    padding: 0 0 0 0;\n",
              "    width: 32px;\n",
              "  }\n",
              "\n",
              "  .colab-df-quickchart:hover {\n",
              "    background-color: #E2EBFA;\n",
              "    box-shadow: 0px 1px 2px rgba(60, 64, 67, 0.3), 0px 1px 3px 1px rgba(60, 64, 67, 0.15);\n",
              "    fill: #174EA6;\n",
              "  }\n",
              "\n",
              "  [theme=dark] .colab-df-quickchart {\n",
              "    background-color: #3B4455;\n",
              "    fill: #D2E3FC;\n",
              "  }\n",
              "\n",
              "  [theme=dark] .colab-df-quickchart:hover {\n",
              "    background-color: #434B5C;\n",
              "    box-shadow: 0px 1px 3px 1px rgba(0, 0, 0, 0.15);\n",
              "    filter: drop-shadow(0px 1px 2px rgba(0, 0, 0, 0.3));\n",
              "    fill: #FFFFFF;\n",
              "  }\n",
              "</style>\n",
              "\n",
              "    <script>\n",
              "      async function quickchart(key) {\n",
              "        const containerElement = document.querySelector('#' + key);\n",
              "        const charts = await google.colab.kernel.invokeFunction(\n",
              "            'suggestCharts', [key], {});\n",
              "      }\n",
              "    </script>\n",
              "\n",
              "      <script>\n",
              "\n",
              "function displayQuickchartButton(domScope) {\n",
              "  let quickchartButtonEl =\n",
              "    domScope.querySelector('#df-f7565fbd-a58e-43db-977c-4530a34715a7 button.colab-df-quickchart');\n",
              "  quickchartButtonEl.style.display =\n",
              "    google.colab.kernel.accessAllowed ? 'block' : 'none';\n",
              "}\n",
              "\n",
              "        displayQuickchartButton(document);\n",
              "      </script>\n",
              "      <style>\n",
              "    .colab-df-container {\n",
              "      display:flex;\n",
              "      flex-wrap:wrap;\n",
              "      gap: 12px;\n",
              "    }\n",
              "\n",
              "    .colab-df-convert {\n",
              "      background-color: #E8F0FE;\n",
              "      border: none;\n",
              "      border-radius: 50%;\n",
              "      cursor: pointer;\n",
              "      display: none;\n",
              "      fill: #1967D2;\n",
              "      height: 32px;\n",
              "      padding: 0 0 0 0;\n",
              "      width: 32px;\n",
              "    }\n",
              "\n",
              "    .colab-df-convert:hover {\n",
              "      background-color: #E2EBFA;\n",
              "      box-shadow: 0px 1px 2px rgba(60, 64, 67, 0.3), 0px 1px 3px 1px rgba(60, 64, 67, 0.15);\n",
              "      fill: #174EA6;\n",
              "    }\n",
              "\n",
              "    [theme=dark] .colab-df-convert {\n",
              "      background-color: #3B4455;\n",
              "      fill: #D2E3FC;\n",
              "    }\n",
              "\n",
              "    [theme=dark] .colab-df-convert:hover {\n",
              "      background-color: #434B5C;\n",
              "      box-shadow: 0px 1px 3px 1px rgba(0, 0, 0, 0.15);\n",
              "      filter: drop-shadow(0px 1px 2px rgba(0, 0, 0, 0.3));\n",
              "      fill: #FFFFFF;\n",
              "    }\n",
              "  </style>\n",
              "\n",
              "      <script>\n",
              "        const buttonEl =\n",
              "          document.querySelector('#df-2869b277-567f-497c-9477-97230c05586b button.colab-df-convert');\n",
              "        buttonEl.style.display =\n",
              "          google.colab.kernel.accessAllowed ? 'block' : 'none';\n",
              "\n",
              "        async function convertToInteractive(key) {\n",
              "          const element = document.querySelector('#df-2869b277-567f-497c-9477-97230c05586b');\n",
              "          const dataTable =\n",
              "            await google.colab.kernel.invokeFunction('convertToInteractive',\n",
              "                                                     [key], {});\n",
              "          if (!dataTable) return;\n",
              "\n",
              "          const docLinkHtml = 'Like what you see? Visit the ' +\n",
              "            '<a target=\"_blank\" href=https://colab.research.google.com/notebooks/data_table.ipynb>data table notebook</a>'\n",
              "            + ' to learn more about interactive tables.';\n",
              "          element.innerHTML = '';\n",
              "          dataTable['output_type'] = 'display_data';\n",
              "          await google.colab.output.renderOutput(dataTable, element);\n",
              "          const docLink = document.createElement('div');\n",
              "          docLink.innerHTML = docLinkHtml;\n",
              "          element.appendChild(docLink);\n",
              "        }\n",
              "      </script>\n",
              "    </div>\n",
              "  </div>\n"
            ]
          },
          "metadata": {},
          "execution_count": 8
        }
      ],
      "source": [
        "data.tail()"
      ]
    },
    {
      "cell_type": "code",
      "execution_count": 9,
      "id": "6292e20a",
      "metadata": {
        "id": "6292e20a"
      },
      "outputs": [],
      "source": [
        "opn = data[['Open']]"
      ]
    },
    {
      "cell_type": "code",
      "execution_count": 10,
      "id": "21e132d8",
      "metadata": {
        "colab": {
          "base_uri": "https://localhost:8080/",
          "height": 439
        },
        "id": "21e132d8",
        "outputId": "90fc13fc-caab-4ea8-f936-774a48496e14"
      },
      "outputs": [
        {
          "output_type": "execute_result",
          "data": {
            "text/plain": [
              "<Axes: xlabel='Date'>"
            ]
          },
          "metadata": {},
          "execution_count": 10
        },
        {
          "output_type": "display_data",
          "data": {
            "text/plain": [
              "<Figure size 640x480 with 1 Axes>"
            ],
            "image/png": "[encoded data removed]"
          },
          "metadata": {}
        }
      ],
      "source": [
        "opn.plot()"
      ]
    },
    {
      "cell_type": "code",
      "execution_count": 11,
      "id": "c5194440",
      "metadata": {
        "id": "c5194440"
      },
      "outputs": [],
      "source": [
        "import matplotlib.pyplot as plt"
      ]
    },
    {
      "cell_type": "code",
      "execution_count": 12,
      "id": "8038cb6a",
      "metadata": {
        "id": "8038cb6a"
      },
      "outputs": [],
      "source": [
        "ds = opn.values"
      ]
    },
    {
      "cell_type": "code",
      "execution_count": 13,
      "id": "69b08672",
      "metadata": {
        "colab": {
          "base_uri": "https://localhost:8080/"
        },
        "id": "69b08672",
        "outputId": "80981126-3ae3-4fc8-e5af-5b4d8bb4461f"
      },
      "outputs": [
        {
          "output_type": "execute_result",
          "data": {
            "text/plain": [
              "array([[121.31666565],\n",
              "       [124.8833313 ],\n",
              "       [126.56666565],\n",
              "       ...,\n",
              "       [116.94999695],\n",
              "       [118.59999847],\n",
              "       [118.05000305]])"
            ]
          },
          "metadata": {},
          "execution_count": 13
        }
      ],
      "source": [
        "ds"
      ]
    },
    {
      "cell_type": "code",
      "execution_count": 14,
      "id": "af022e3c",
      "metadata": {
        "colab": {
          "base_uri": "https://localhost:8080/",
          "height": 447
        },
        "id": "af022e3c",
        "outputId": "1bd82e80-ed84-4011-85db-111d7ceb40f9"
      },
      "outputs": [
        {
          "output_type": "execute_result",
          "data": {
            "text/plain": [
              "[<matplotlib.lines.Line2D at 0x7df0f30dae60>]"
            ]
          },
          "metadata": {},
          "execution_count": 14
        },
        {
          "output_type": "display_data",
          "data": {
            "text/plain": [
              "<Figure size 640x480 with 1 Axes>"
            ],
            "image/png": "[encoded data removed]"
          },
          "metadata": {}
        }
      ],
      "source": [
        "plt.plot(ds)"
      ]
    },
    {
      "cell_type": "code",
      "execution_count": 15,
      "id": "0e73b789",
      "metadata": {
        "id": "0e73b789"
      },
      "outputs": [],
      "source": [
        "import numpy as np"
      ]
    },
    {
      "cell_type": "code",
      "execution_count": 16,
      "id": "0e6c1c22",
      "metadata": {
        "id": "0e6c1c22"
      },
      "outputs": [],
      "source": [
        "from sklearn.preprocessing import MinMaxScaler"
      ]
    },
    {
      "cell_type": "code",
      "execution_count": 17,
      "id": "cf6a3e1b",
      "metadata": {
        "id": "cf6a3e1b"
      },
      "outputs": [],
      "source": [
        "#Using MinMaxScaler for normalizing data between 0 & 1\n",
        "normalizer = MinMaxScaler(feature_range=(0,1))\n",
        "ds_scaled = normalizer.fit_transform(np.array(ds).reshape(-1,1))"
      ]
    },
    {
      "cell_type": "code",
      "execution_count": 18,
      "id": "7dbea1d5",
      "metadata": {
        "colab": {
          "base_uri": "https://localhost:8080/"
        },
        "id": "7dbea1d5",
        "outputId": "a9986313-7d33-46fe-b32a-10973ba2af1f"
      },
      "outputs": [
        {
          "output_type": "execute_result",
          "data": {
            "text/plain": [
              "(1234, 1234)"
            ]
          },
          "metadata": {},
          "execution_count": 18
        }
      ],
      "source": [
        "len(ds_scaled), len(ds)"
      ]
    },
    {
      "cell_type": "code",
      "execution_count": 19,
      "id": "a20c5654",
      "metadata": {
        "id": "a20c5654"
      },
      "outputs": [],
      "source": [
        "#Defining test and train data sizes\n",
        "train_size = int(len(ds_scaled)*0.70)\n",
        "test_size = len(ds_scaled) - train_size"
      ]
    },
    {
      "cell_type": "code",
      "execution_count": 20,
      "id": "b964aa4e",
      "metadata": {
        "colab": {
          "base_uri": "https://localhost:8080/"
        },
        "id": "b964aa4e",
        "outputId": "3b37a4f1-bd6c-4d87-ba29-c8c22b6f56d1"
      },
      "outputs": [
        {
          "output_type": "execute_result",
          "data": {
            "text/plain": [
              "(863, 371)"
            ]
          },
          "metadata": {},
          "execution_count": 20
        }
      ],
      "source": [
        "train_size,test_size"
      ]
    },
    {
      "cell_type": "code",
      "execution_count": 21,
      "id": "25ca615e",
      "metadata": {
        "id": "25ca615e"
      },
      "outputs": [],
      "source": [
        "#Splitting data between train and test\n",
        "ds_train, ds_test = ds_scaled[0:train_size,:], ds_scaled[train_size:len(ds_scaled),:1]"
      ]
    },
    {
      "cell_type": "code",
      "execution_count": 22,
      "id": "95913f28",
      "metadata": {
        "colab": {
          "base_uri": "https://localhost:8080/"
        },
        "id": "95913f28",
        "outputId": "ff994a91-3739-45fd-e51f-65fc65ad16dd"
      },
      "outputs": [
        {
          "output_type": "execute_result",
          "data": {
            "text/plain": [
              "(863, 371)"
            ]
          },
          "metadata": {},
          "execution_count": 22
        }
      ],
      "source": [
        "len(ds_train),len(ds_test)"
      ]
    },
    {
      "cell_type": "code",
      "execution_count": 23,
      "id": "5dd0b45e",
      "metadata": {
        "id": "5dd0b45e"
      },
      "outputs": [],
      "source": [
        "#creating dataset in time series for LSTM model\n",
        "#X[100,120,140,160,180] : Y[200]\n",
        "def create_ds(dataset,step):\n",
        "    Xtrain, Ytrain = [], []\n",
        "    for i in range(len(dataset)-step-1):\n",
        "        a = dataset[i:(i+step), 0]\n",
        "        Xtrain.append(a)\n",
        "        Ytrain.append(dataset[i + step, 0])\n",
        "    return np.array(Xtrain), np.array(Ytrain)"
      ]
    },
    {
      "cell_type": "code",
      "execution_count": 24,
      "id": "d28b7d1d",
      "metadata": {
        "id": "d28b7d1d"
      },
      "outputs": [],
      "source": [
        "#Taking 100 days price as one record for training\n",
        "time_stamp = 100\n",
        "X_train, y_train = create_ds(ds_train,time_stamp)\n",
        "X_test, y_test = create_ds(ds_test,time_stamp)"
      ]
    },
    {
      "cell_type": "code",
      "execution_count": 25,
      "id": "03ce9096",
      "metadata": {
        "colab": {
          "base_uri": "https://localhost:8080/"
        },
        "id": "03ce9096",
        "outputId": "159c40f8-7f1b-41c0-a27d-dfc1b079acbb"
      },
      "outputs": [
        {
          "output_type": "execute_result",
          "data": {
            "text/plain": [
              "((762, 100), (762,))"
            ]
          },
          "metadata": {},
          "execution_count": 25
        }
      ],
      "source": [
        "X_train.shape,y_train.shape"
      ]
    },
    {
      "cell_type": "code",
      "execution_count": 26,
      "id": "84acdd72",
      "metadata": {
        "colab": {
          "base_uri": "https://localhost:8080/"
        },
        "id": "84acdd72",
        "outputId": "f276381c-8b34-4191-e284-3670da0ea30f"
      },
      "outputs": [
        {
          "output_type": "execute_result",
          "data": {
            "text/plain": [
              "((270, 100), (270,))"
            ]
          },
          "metadata": {},
          "execution_count": 26
        }
      ],
      "source": [
        "X_test.shape, y_test.shape"
      ]
    },
    {
      "cell_type": "code",
      "execution_count": 27,
      "id": "c657d193",
      "metadata": {
        "id": "c657d193"
      },
      "outputs": [],
      "source": [
        "#Reshaping data to fit into LSTM model\n",
        "X_train = X_train.reshape(X_train.shape[0],X_train.shape[1] , 1)\n",
        "X_test = X_test.reshape(X_test.shape[0],X_test.shape[1] , 1)"
      ]
    },
    {
      "cell_type": "code",
      "execution_count": 28,
      "id": "82844671",
      "metadata": {
        "id": "82844671"
      },
      "outputs": [],
      "source": [
        "from keras.models import Sequential\n",
        "from keras.layers import Dense, LSTM"
      ]
    },
    {
      "cell_type": "code",
      "execution_count": 29,
      "id": "b5250913",
      "metadata": {
        "colab": {
          "base_uri": "https://localhost:8080/"
        },
        "id": "b5250913",
        "outputId": "d0f582fd-21ab-4ce3-e75d-6c7c8c1d938e"
      },
      "outputs": [
        {
          "output_type": "stream",
          "name": "stdout",
          "text": [
            "Model: \"sequential\"\n",
            "_________________________________________________________________\n",
            " Layer (type)                Output Shape              Param #   \n",
            "=================================================================\n",
            " lstm (LSTM)                 (None, 100, 50)           10400     \n",
            "                                                                 \n",
            " lstm_1 (LSTM)               (None, 100, 50)           20200     \n",
            "                                                                 \n",
            " lstm_2 (LSTM)               (None, 50)                20200     \n",
            "                                                                 \n",
            " dense (Dense)               (None, 1)                 51        \n",
            "                                                                 \n",
            "=================================================================\n",
            "Total params: 50,851\n",
            "Trainable params: 50,851\n",
            "Non-trainable params: 0\n",
            "_________________________________________________________________\n"
          ]
        }
      ],
      "source": [
        "#Creating LSTM model using keras\n",
        "model = Sequential()\n",
        "model.add(LSTM(units=50,return_sequences=True,input_shape=(X_train.shape[1],1)))\n",
        "model.add(LSTM(units=50,return_sequences=True))\n",
        "model.add(LSTM(units=50))\n",
        "model.add(Dense(units=1,activation='linear'))\n",
        "model.summary()"
      ]
    },
    {
      "cell_type": "code",
      "execution_count": 30,
      "id": "7e8ff062",
      "metadata": {
        "colab": {
          "base_uri": "https://localhost:8080/"
        },
        "id": "7e8ff062",
        "outputId": "b3831bb1-d8d2-48e6-f278-ad88fdd1ccbd"
      },
      "outputs": [
        {
          "output_type": "stream",
          "name": "stdout",
          "text": [
            "Epoch 1/100\n",
            "12/12 [==============================] - 10s 359ms/step - loss: 0.0870 - val_loss: 0.0059\n",
            "Epoch 2/100\n",
            "12/12 [==============================] - 4s 292ms/step - loss: 0.0132 - val_loss: 0.0031\n",
            "Epoch 3/100\n",
            "12/12 [==============================] - 3s 213ms/step - loss: 0.0090 - val_loss: 0.0086\n",
            "Epoch 4/100\n",
            "12/12 [==============================] - 3s 215ms/step - loss: 0.0058 - val_loss: 0.0031\n",
            "Epoch 5/100\n",
            "12/12 [==============================] - 3s 217ms/step - loss: 0.0046 - val_loss: 0.0023\n",
            "Epoch 6/100\n",
            "12/12 [==============================] - 4s 320ms/step - loss: 0.0041 - val_loss: 0.0023\n",
            "Epoch 7/100\n",
            "12/12 [==============================] - 4s 324ms/step - loss: 0.0040 - val_loss: 0.0019\n",
            "Epoch 8/100\n",
            "12/12 [==============================] - 3s 219ms/step - loss: 0.0038 - val_loss: 0.0025\n",
            "Epoch 9/100\n",
            "12/12 [==============================] - 3s 212ms/step - loss: 0.0037 - val_loss: 0.0019\n",
            "Epoch 10/100\n",
            "12/12 [==============================] - 3s 228ms/step - loss: 0.0035 - val_loss: 0.0019\n",
            "Epoch 11/100\n",
            "12/12 [==============================] - 5s 388ms/step - loss: 0.0034 - val_loss: 0.0021\n",
            "Epoch 12/100\n",
            "12/12 [==============================] - 3s 229ms/step - loss: 0.0033 - val_loss: 0.0025\n",
            "Epoch 13/100\n",
            "12/12 [==============================] - 3s 220ms/step - loss: 0.0032 - val_loss: 0.0020\n",
            "Epoch 14/100\n",
            "12/12 [==============================] - 3s 261ms/step - loss: 0.0032 - val_loss: 0.0020\n",
            "Epoch 15/100\n",
            "12/12 [==============================] - 3s 279ms/step - loss: 0.0030 - val_loss: 0.0019\n",
            "Epoch 16/100\n",
            "12/12 [==============================] - 3s 219ms/step - loss: 0.0029 - val_loss: 0.0019\n",
            "Epoch 17/100\n",
            "12/12 [==============================] - 3s 214ms/step - loss: 0.0030 - val_loss: 0.0018\n",
            "Epoch 18/100\n",
            "12/12 [==============================] - 3s 218ms/step - loss: 0.0031 - val_loss: 0.0018\n",
            "Epoch 19/100\n",
            "12/12 [==============================] - 4s 323ms/step - loss: 0.0028 - val_loss: 0.0017\n",
            "Epoch 20/100\n",
            "12/12 [==============================] - 3s 214ms/step - loss: 0.0027 - val_loss: 0.0018\n",
            "Epoch 21/100\n",
            "12/12 [==============================] - 3s 214ms/step - loss: 0.0027 - val_loss: 0.0015\n",
            "Epoch 22/100\n",
            "12/12 [==============================] - 3s 212ms/step - loss: 0.0027 - val_loss: 0.0022\n",
            "Epoch 23/100\n",
            "12/12 [==============================] - 3s 249ms/step - loss: 0.0026 - val_loss: 0.0014\n",
            "Epoch 24/100\n",
            "12/12 [==============================] - 3s 282ms/step - loss: 0.0026 - val_loss: 0.0015\n",
            "Epoch 25/100\n",
            "12/12 [==============================] - 3s 216ms/step - loss: 0.0026 - val_loss: 0.0013\n",
            "Epoch 26/100\n",
            "12/12 [==============================] - 3s 214ms/step - loss: 0.0027 - val_loss: 0.0016\n",
            "Epoch 27/100\n",
            "12/12 [==============================] - 3s 220ms/step - loss: 0.0025 - val_loss: 0.0012\n",
            "Epoch 28/100\n",
            "12/12 [==============================] - 4s 335ms/step - loss: 0.0023 - val_loss: 0.0012\n",
            "Epoch 29/100\n",
            "12/12 [==============================] - 3s 218ms/step - loss: 0.0023 - val_loss: 0.0013\n",
            "Epoch 30/100\n",
            "12/12 [==============================] - 3s 216ms/step - loss: 0.0023 - val_loss: 0.0011\n",
            "Epoch 31/100\n",
            "12/12 [==============================] - 3s 213ms/step - loss: 0.0022 - val_loss: 0.0011\n",
            "Epoch 32/100\n",
            "12/12 [==============================] - 3s 254ms/step - loss: 0.0021 - val_loss: 0.0011\n",
            "Epoch 33/100\n",
            "12/12 [==============================] - 3s 283ms/step - loss: 0.0020 - val_loss: 0.0012\n",
            "Epoch 34/100\n",
            "12/12 [==============================] - 3s 214ms/step - loss: 0.0020 - val_loss: 0.0011\n",
            "Epoch 35/100\n",
            "12/12 [==============================] - 3s 216ms/step - loss: 0.0020 - val_loss: 9.7010e-04\n",
            "Epoch 36/100\n",
            "12/12 [==============================] - 3s 215ms/step - loss: 0.0020 - val_loss: 8.9327e-04\n",
            "Epoch 37/100\n",
            "12/12 [==============================] - 4s 337ms/step - loss: 0.0018 - val_loss: 0.0010\n",
            "Epoch 38/100\n",
            "12/12 [==============================] - 3s 216ms/step - loss: 0.0017 - val_loss: 8.7284e-04\n",
            "Epoch 39/100\n",
            "12/12 [==============================] - 3s 220ms/step - loss: 0.0017 - val_loss: 9.7298e-04\n",
            "Epoch 40/100\n",
            "12/12 [==============================] - 3s 216ms/step - loss: 0.0018 - val_loss: 8.3193e-04\n",
            "Epoch 41/100\n",
            "12/12 [==============================] - 3s 261ms/step - loss: 0.0017 - val_loss: 8.9310e-04\n",
            "Epoch 42/100\n",
            "12/12 [==============================] - 3s 275ms/step - loss: 0.0016 - val_loss: 7.3727e-04\n",
            "Epoch 43/100\n",
            "12/12 [==============================] - 3s 217ms/step - loss: 0.0015 - val_loss: 7.2136e-04\n",
            "Epoch 44/100\n",
            "12/12 [==============================] - 3s 218ms/step - loss: 0.0015 - val_loss: 0.0017\n",
            "Epoch 45/100\n",
            "12/12 [==============================] - 3s 216ms/step - loss: 0.0015 - val_loss: 9.6391e-04\n",
            "Epoch 46/100\n",
            "12/12 [==============================] - 4s 327ms/step - loss: 0.0015 - val_loss: 0.0014\n",
            "Epoch 47/100\n",
            "12/12 [==============================] - 3s 216ms/step - loss: 0.0014 - val_loss: 6.8523e-04\n",
            "Epoch 48/100\n",
            "12/12 [==============================] - 3s 217ms/step - loss: 0.0013 - val_loss: 7.0153e-04\n",
            "Epoch 49/100\n",
            "12/12 [==============================] - 3s 218ms/step - loss: 0.0013 - val_loss: 6.3671e-04\n",
            "Epoch 50/100\n",
            "12/12 [==============================] - 3s 240ms/step - loss: 0.0014 - val_loss: 8.3350e-04\n",
            "Epoch 51/100\n",
            "12/12 [==============================] - 4s 291ms/step - loss: 0.0014 - val_loss: 6.2077e-04\n",
            "Epoch 52/100\n",
            "12/12 [==============================] - 3s 222ms/step - loss: 0.0014 - val_loss: 6.7878e-04\n",
            "Epoch 53/100\n",
            "12/12 [==============================] - 3s 220ms/step - loss: 0.0014 - val_loss: 9.2504e-04\n",
            "Epoch 54/100\n",
            "12/12 [==============================] - 3s 214ms/step - loss: 0.0014 - val_loss: 0.0017\n",
            "Epoch 55/100\n",
            "12/12 [==============================] - 4s 329ms/step - loss: 0.0014 - val_loss: 0.0019\n",
            "Epoch 56/100\n",
            "12/12 [==============================] - 3s 220ms/step - loss: 0.0016 - val_loss: 0.0027\n",
            "Epoch 57/100\n",
            "12/12 [==============================] - 3s 217ms/step - loss: 0.0015 - val_loss: 0.0012\n",
            "Epoch 58/100\n",
            "12/12 [==============================] - 3s 218ms/step - loss: 0.0013 - val_loss: 5.8972e-04\n",
            "Epoch 59/100\n",
            "12/12 [==============================] - 3s 270ms/step - loss: 0.0012 - val_loss: 5.7907e-04\n",
            "Epoch 60/100\n",
            "12/12 [==============================] - 3s 273ms/step - loss: 0.0012 - val_loss: 5.7572e-04\n",
            "Epoch 61/100\n",
            "12/12 [==============================] - 3s 217ms/step - loss: 0.0011 - val_loss: 5.8842e-04\n",
            "Epoch 62/100\n",
            "12/12 [==============================] - 3s 215ms/step - loss: 0.0011 - val_loss: 5.4252e-04\n",
            "Epoch 63/100\n",
            "12/12 [==============================] - 4s 330ms/step - loss: 0.0011 - val_loss: 5.6788e-04\n",
            "Epoch 64/100\n",
            "12/12 [==============================] - 7s 559ms/step - loss: 0.0011 - val_loss: 6.0739e-04\n",
            "Epoch 65/100\n",
            "12/12 [==============================] - 4s 368ms/step - loss: 0.0011 - val_loss: 5.1758e-04\n",
            "Epoch 66/100\n",
            "12/12 [==============================] - 5s 438ms/step - loss: 0.0011 - val_loss: 7.0668e-04\n",
            "Epoch 67/100\n",
            "12/12 [==============================] - 3s 216ms/step - loss: 0.0011 - val_loss: 5.9051e-04\n",
            "Epoch 68/100\n",
            "12/12 [==============================] - 3s 219ms/step - loss: 9.9118e-04 - val_loss: 5.1608e-04\n",
            "Epoch 69/100\n",
            "12/12 [==============================] - 3s 219ms/step - loss: 0.0010 - val_loss: 6.4609e-04\n",
            "Epoch 70/100\n",
            "12/12 [==============================] - 5s 398ms/step - loss: 0.0011 - val_loss: 6.4814e-04\n",
            "Epoch 71/100\n",
            "12/12 [==============================] - 3s 259ms/step - loss: 0.0012 - val_loss: 7.1642e-04\n",
            "Epoch 72/100\n",
            "12/12 [==============================] - 3s 217ms/step - loss: 9.7008e-04 - val_loss: 5.7720e-04\n",
            "Epoch 73/100\n",
            "12/12 [==============================] - 3s 215ms/step - loss: 9.7267e-04 - val_loss: 5.2973e-04\n",
            "Epoch 74/100\n",
            "12/12 [==============================] - 3s 218ms/step - loss: 9.2476e-04 - val_loss: 7.3494e-04\n",
            "Epoch 75/100\n",
            "12/12 [==============================] - 4s 329ms/step - loss: 0.0011 - val_loss: 4.6059e-04\n",
            "Epoch 76/100\n",
            "12/12 [==============================] - 3s 214ms/step - loss: 0.0010 - val_loss: 0.0010\n",
            "Epoch 77/100\n",
            "12/12 [==============================] - 3s 250ms/step - loss: 0.0010 - val_loss: 7.4843e-04\n",
            "Epoch 78/100\n",
            "12/12 [==============================] - 6s 543ms/step - loss: 0.0010 - val_loss: 4.4546e-04\n",
            "Epoch 79/100\n",
            "12/12 [==============================] - 6s 469ms/step - loss: 9.3953e-04 - val_loss: 6.2302e-04\n",
            "Epoch 80/100\n",
            "12/12 [==============================] - 4s 356ms/step - loss: 0.0010 - val_loss: 4.7673e-04\n",
            "Epoch 81/100\n",
            "12/12 [==============================] - 3s 299ms/step - loss: 9.1981e-04 - val_loss: 5.1518e-04\n",
            "Epoch 82/100\n",
            "12/12 [==============================] - 3s 227ms/step - loss: 9.2116e-04 - val_loss: 5.4680e-04\n",
            "Epoch 83/100\n",
            "12/12 [==============================] - 3s 219ms/step - loss: 0.0010 - val_loss: 8.5269e-04\n",
            "Epoch 84/100\n",
            "12/12 [==============================] - 3s 213ms/step - loss: 0.0011 - val_loss: 0.0019\n",
            "Epoch 85/100\n",
            "12/12 [==============================] - 3s 216ms/step - loss: 9.9841e-04 - val_loss: 5.9130e-04\n",
            "Epoch 86/100\n",
            "12/12 [==============================] - 4s 313ms/step - loss: 8.5582e-04 - val_loss: 4.3134e-04\n",
            "Epoch 87/100\n",
            "12/12 [==============================] - 3s 217ms/step - loss: 8.8498e-04 - val_loss: 0.0011\n",
            "Epoch 88/100\n",
            "12/12 [==============================] - 3s 212ms/step - loss: 0.0011 - val_loss: 0.0011\n",
            "Epoch 89/100\n",
            "12/12 [==============================] - 3s 215ms/step - loss: 0.0011 - val_loss: 4.1514e-04\n",
            "Epoch 90/100\n",
            "12/12 [==============================] - 3s 273ms/step - loss: 8.1544e-04 - val_loss: 4.4301e-04\n",
            "Epoch 91/100\n",
            "12/12 [==============================] - 3s 254ms/step - loss: 9.0391e-04 - val_loss: 4.3674e-04\n",
            "Epoch 92/100\n",
            "12/12 [==============================] - 3s 216ms/step - loss: 8.4033e-04 - val_loss: 5.7117e-04\n",
            "Epoch 93/100\n",
            "12/12 [==============================] - 3s 219ms/step - loss: 8.3845e-04 - val_loss: 4.5994e-04\n",
            "Epoch 94/100\n",
            "12/12 [==============================] - 3s 216ms/step - loss: 7.9368e-04 - val_loss: 4.1920e-04\n",
            "Epoch 95/100\n",
            "12/12 [==============================] - 4s 341ms/step - loss: 9.3995e-04 - val_loss: 7.3140e-04\n",
            "Epoch 96/100\n",
            "12/12 [==============================] - 3s 216ms/step - loss: 7.9555e-04 - val_loss: 4.2297e-04\n",
            "Epoch 97/100\n",
            "12/12 [==============================] - 3s 216ms/step - loss: 8.0578e-04 - val_loss: 6.3392e-04\n",
            "Epoch 98/100\n",
            "12/12 [==============================] - 3s 218ms/step - loss: 8.4949e-04 - val_loss: 3.8312e-04\n",
            "Epoch 99/100\n",
            "12/12 [==============================] - 3s 278ms/step - loss: 7.5461e-04 - val_loss: 4.1182e-04\n",
            "Epoch 100/100\n",
            "12/12 [==============================] - 3s 250ms/step - loss: 7.4489e-04 - val_loss: 3.8913e-04\n"
          ]
        },
        {
          "output_type": "execute_result",
          "data": {
            "text/plain": [
              "<keras.callbacks.History at 0x7df0903f2fe0>"
            ]
          },
          "metadata": {},
          "execution_count": 30
        }
      ],
      "source": [
        "#Training model with adam optimizer and mean squared error loss function\n",
        "model.compile(loss='mean_squared_error',optimizer='adam')\n",
        "model.fit(X_train,y_train,validation_data=(X_test,y_test),epochs=100,batch_size=64)"
      ]
    },
    {
      "cell_type": "code",
      "execution_count": 31,
      "id": "18b1ba6a",
      "metadata": {
        "colab": {
          "base_uri": "https://localhost:8080/",
          "height": 447
        },
        "id": "18b1ba6a",
        "outputId": "ca50159b-0d8c-47a2-ac59-4598d2b6be3c"
      },
      "outputs": [
        {
          "output_type": "execute_result",
          "data": {
            "text/plain": [
              "[<matplotlib.lines.Line2D at 0x7df0806307f0>]"
            ]
          },
          "metadata": {},
          "execution_count": 31
        },
        {
          "output_type": "display_data",
          "data": {
            "text/plain": [
              "<Figure size 640x480 with 1 Axes>"
            ],
            "image/png": "[encoded data removed]"
          },
          "metadata": {}
        }
      ],
      "source": [
        "#PLotting loss, it shows that loss has decreased significantly and model trained well\n",
        "loss = model.history.history['loss']\n",
        "plt.plot(loss)"
      ]
    },
    {
      "cell_type": "code",
      "execution_count": 34,
      "id": "3e7f2fc8",
      "metadata": {
        "colab": {
          "base_uri": "https://localhost:8080/"
        },
        "id": "3e7f2fc8",
        "outputId": "5794ba75-3f53-4359-e5ff-4aff18cf06c3"
      },
      "outputs": [
        {
          "output_type": "stream",
          "name": "stdout",
          "text": [
            "24/24 [==============================] - 2s 42ms/step\n",
            "9/9 [==============================] - 0s 44ms/step\n"
          ]
        }
      ],
      "source": [
        "#Predicitng on train and test data\n",
        "train_predict = model.predict(X_train)\n",
        "test_predict = model.predict(X_test)"
      ]
    },
    {
      "cell_type": "code",
      "execution_count": 35,
      "id": "c2d6c2d5",
      "metadata": {
        "id": "c2d6c2d5"
      },
      "outputs": [],
      "source": [
        "#Inverse transform to get actual value\n",
        "train_predict = normalizer.inverse_transform(train_predict)\n",
        "test_predict = normalizer.inverse_transform(test_predict)"
      ]
    },
    {
      "cell_type": "code",
      "execution_count": 36,
      "id": "9d0543ad",
      "metadata": {
        "colab": {
          "base_uri": "https://localhost:8080/",
          "height": 447
        },
        "id": "9d0543ad",
        "outputId": "38504b0c-60de-42bd-eb32-05603ce0d845"
      },
      "outputs": [
        {
          "output_type": "execute_result",
          "data": {
            "text/plain": [
              "[<matplotlib.lines.Line2D at 0x7df08aeb1420>]"
            ]
          },
          "metadata": {},
          "execution_count": 36
        },
        {
          "output_type": "display_data",
          "data": {
            "text/plain": [
              "<Figure size 640x480 with 1 Axes>"
            ],
            "image/png": "[encoded data removed]"
          },
          "metadata": {}
        }
      ],
      "source": [
        "#Comparing using visuals\n",
        "plt.plot(normalizer.inverse_transform(ds_scaled))\n",
        "plt.plot(train_predict)\n",
        "plt.plot(test_predict)"
      ]
    },
    {
      "cell_type": "code",
      "execution_count": 37,
      "id": "55300bae",
      "metadata": {
        "colab": {
          "base_uri": "https://localhost:8080/"
        },
        "id": "55300bae",
        "outputId": "210efbdd-060d-4793-e270-eca876a65012"
      },
      "outputs": [
        {
          "output_type": "execute_result",
          "data": {
            "text/plain": [
              "numpy.ndarray"
            ]
          },
          "metadata": {},
          "execution_count": 37
        }
      ],
      "source": [
        "type(train_predict)"
      ]
    },
    {
      "cell_type": "code",
      "execution_count": 38,
      "id": "bf6d5613",
      "metadata": {
        "id": "bf6d5613"
      },
      "outputs": [],
      "source": [
        "test = np.vstack((train_predict,test_predict))"
      ]
    },
    {
      "cell_type": "code",
      "execution_count": 39,
      "id": "41b272ff",
      "metadata": {
        "colab": {
          "base_uri": "https://localhost:8080/",
          "height": 447
        },
        "id": "41b272ff",
        "outputId": "28df1031-d59a-4dea-cb87-cb032c194ca0"
      },
      "outputs": [
        {
          "output_type": "execute_result",
          "data": {
            "text/plain": [
              "[<matplotlib.lines.Line2D at 0x7df08ad48520>]"
            ]
          },
          "metadata": {},
          "execution_count": 39
        },
        {
          "output_type": "display_data",
          "data": {
            "text/plain": [
              "<Figure size 640x480 with 1 Axes>"
            ],
            "image/png": "[encoded data removed]"
          },
          "metadata": {}
        }
      ],
      "source": [
        "#Combining the predited data to create uniform data visualization\n",
        "plt.plot(normalizer.inverse_transform(ds_scaled))\n",
        "plt.plot(test)"
      ]
    },
    {
      "cell_type": "code",
      "execution_count": 40,
      "id": "16af9283",
      "metadata": {
        "colab": {
          "base_uri": "https://localhost:8080/"
        },
        "id": "16af9283",
        "outputId": "ea081ae3-09e7-44b4-8beb-05ccec5af260"
      },
      "outputs": [
        {
          "output_type": "execute_result",
          "data": {
            "text/plain": [
              "371"
            ]
          },
          "metadata": {},
          "execution_count": 40
        }
      ],
      "source": [
        "len(ds_test)"
      ]
    },
    {
      "cell_type": "code",
      "execution_count": 41,
      "id": "c13df7b8",
      "metadata": {
        "id": "c13df7b8"
      },
      "outputs": [],
      "source": [
        "#Getting the last 100 days records\n",
        "fut_inp = ds_test[270:]"
      ]
    },
    {
      "cell_type": "code",
      "execution_count": 42,
      "id": "52b30579",
      "metadata": {
        "id": "52b30579"
      },
      "outputs": [],
      "source": [
        "fut_inp = fut_inp.reshape(1,-1)"
      ]
    },
    {
      "cell_type": "code",
      "execution_count": 43,
      "id": "ac2686a6",
      "metadata": {
        "id": "ac2686a6"
      },
      "outputs": [],
      "source": [
        "tmp_inp = list(fut_inp)"
      ]
    },
    {
      "cell_type": "code",
      "execution_count": 44,
      "id": "dad5024f",
      "metadata": {
        "colab": {
          "base_uri": "https://localhost:8080/"
        },
        "id": "dad5024f",
        "outputId": "31e5ff70-0ade-4307-bff6-38566e539f53"
      },
      "outputs": [
        {
          "output_type": "execute_result",
          "data": {
            "text/plain": [
              "(1, 101)"
            ]
          },
          "metadata": {},
          "execution_count": 44
        }
      ],
      "source": [
        "fut_inp.shape"
      ]
    },
    {
      "cell_type": "code",
      "execution_count": 45,
      "id": "98042a30",
      "metadata": {
        "id": "98042a30"
      },
      "outputs": [],
      "source": [
        "#Creating list of the last 100 data\n",
        "tmp_inp = tmp_inp[0].tolist()"
      ]
    },
    {
      "cell_type": "code",
      "execution_count": 46,
      "id": "44799d02",
      "metadata": {
        "colab": {
          "base_uri": "https://localhost:8080/"
        },
        "id": "44799d02",
        "outputId": "62059600-8b51-4cd8-cb6c-1aa6c8ceec3f"
      },
      "outputs": [
        {
          "output_type": "stream",
          "name": "stdout",
          "text": [
            "[[0.8543206453323364], [0.856867253780365], [0.8586278557777405], [0.8599045276641846], [0.8608402609825134], [0.8616284728050232], [0.8624224662780762], [0.8633121848106384], [0.8643332719802856], [0.8654835820198059], [0.8667401671409607], [0.868068277835846], [0.8694328665733337], [0.8708025813102722], [0.87215256690979], [0.8734663724899292], [0.8747342228889465], [0.8759525418281555], [0.8771220445632935], [0.8782459497451782], [0.879330039024353], [0.880378782749176], [0.8813979029655457], [0.8823916912078857], [0.8833633065223694], [0.8843157887458801], [0.8852506279945374], [0.8861686587333679], [0.8870711922645569], [0.887957751750946]]\n"
          ]
        }
      ],
      "source": [
        "#Predicting next 30 days price suing the current data\n",
        "#It will predict in sliding window manner (algorithm) with stride 1\n",
        "lst_output=[]\n",
        "n_steps=100\n",
        "i=0\n",
        "while(i<30):\n",
        "\n",
        "    if(len(tmp_inp)>100):\n",
        "        fut_inp = np.array(tmp_inp[1:])\n",
        "        fut_inp=fut_inp.reshape(1,-1)\n",
        "        fut_inp = fut_inp.reshape((1, n_steps, 1))\n",
        "        yhat = model.predict(fut_inp, verbose=0)\n",
        "        tmp_inp.extend(yhat[0].tolist())\n",
        "        tmp_inp = tmp_inp[1:]\n",
        "        lst_output.extend(yhat.tolist())\n",
        "        i=i+1\n",
        "    else:\n",
        "        fut_inp = fut_inp.reshape((1, n_steps,1))\n",
        "        yhat = model.predict(fut_inp, verbose=0)\n",
        "        tmp_inp.extend(yhat[0].tolist())\n",
        "        lst_output.extend(yhat.tolist())\n",
        "        i=i+1\n",
        "\n",
        "\n",
        "print(lst_output)"
      ]
    },
    {
      "cell_type": "code",
      "execution_count": 47,
      "id": "d49a83e5",
      "metadata": {
        "colab": {
          "base_uri": "https://localhost:8080/"
        },
        "id": "d49a83e5",
        "outputId": "7b0a9cf3-a622-4a9d-93e3-f8ec10c10bd8"
      },
      "outputs": [
        {
          "output_type": "execute_result",
          "data": {
            "text/plain": [
              "1234"
            ]
          },
          "metadata": {},
          "execution_count": 47
        }
      ],
      "source": [
        "len(ds_scaled)"
      ]
    },
    {
      "cell_type": "code",
      "execution_count": 48,
      "id": "49450ea7",
      "metadata": {
        "id": "49450ea7"
      },
      "outputs": [],
      "source": [
        "#Creating a dummy plane to plot graph one after another\n",
        "plot_new=np.arange(1,101)\n",
        "plot_pred=np.arange(101,131)"
      ]
    },
    {
      "cell_type": "code",
      "execution_count": 57,
      "id": "29f84e31",
      "metadata": {
        "id": "29f84e31"
      },
      "outputs": [],
      "source": []
    },
    {
      "cell_type": "code",
      "execution_count": 50,
      "id": "e41c9362",
      "metadata": {
        "id": "e41c9362"
      },
      "outputs": [],
      "source": [
        "ds_new = ds_scaled.tolist()"
      ]
    },
    {
      "cell_type": "code",
      "execution_count": 51,
      "id": "d6c8d3c1",
      "metadata": {
        "colab": {
          "base_uri": "https://localhost:8080/"
        },
        "id": "d6c8d3c1",
        "outputId": "59126d6c-7270-4258-9cc9-58524409b59b"
      },
      "outputs": [
        {
          "output_type": "execute_result",
          "data": {
            "text/plain": [
              "1234"
            ]
          },
          "metadata": {},
          "execution_count": 51
        }
      ],
      "source": [
        "len(ds_new)"
      ]
    },
    {
      "cell_type": "code",
      "execution_count": 52,
      "id": "24e99607",
      "metadata": {
        "colab": {
          "base_uri": "https://localhost:8080/",
          "height": 447
        },
        "id": "24e99607",
        "outputId": "117922a5-2f3a-44b9-adaa-520d23b8c86c"
      },
      "outputs": [
        {
          "output_type": "execute_result",
          "data": {
            "text/plain": [
              "[<matplotlib.lines.Line2D at 0x7df089e86ec0>]"
            ]
          },
          "metadata": {},
          "execution_count": 52
        },
        {
          "output_type": "display_data",
          "data": {
            "text/plain": [
              "<Figure size 640x480 with 1 Axes>"
            ],
            "image/png": "[encoded data removed]"
          },
          "metadata": {}
        }
      ],
      "source": [
        "#Entends helps us to fill the missing value with approx value\n",
        "ds_new.extend(lst_output)\n",
        "plt.plot(ds_new[1200:])"
      ]
    },
    {
      "cell_type": "code",
      "execution_count": 53,
      "id": "7f04f058",
      "metadata": {
        "id": "7f04f058"
      },
      "outputs": [],
      "source": [
        "#Creating final data for plotting\n",
        "final_graph = normalizer.inverse_transform(ds_new).tolist()"
      ]
    },
    {
      "cell_type": "code",
      "execution_count": 54,
      "id": "2dfdef30",
      "metadata": {
        "colab": {
          "base_uri": "https://localhost:8080/",
          "height": 489
        },
        "id": "2dfdef30",
        "outputId": "5ed43a11-2ef5-480a-f3d5-3349c7cd08d6"
      },
      "outputs": [
        {
          "output_type": "execute_result",
          "data": {
            "text/plain": [
              "<matplotlib.legend.Legend at 0x7df0880f9d80>"
            ]
          },
          "metadata": {},
          "execution_count": 54
        },
        {
          "output_type": "display_data",
          "data": {
            "text/plain": [
              "<Figure size 640x480 with 1 Axes>"
            ],
            "image/png": "[encoded data removed]"
          },
          "metadata": {}
        }
      ],
      "source": [
        "plt.plot(final_graph,)\n",
        "plt.ylabel(\"Price\")\n",
        "plt.xlabel(\"Time\")\n",
        "plt.title(\"{0} prediction of next month open\".format(stock_symbol))\n",
        "plt.axhline(y=final_graph[len(final_graph)-1], color = 'red', linestyle = ':', label = 'NEXT 30D: {0}'.format(round(float(*final_graph[len(final_graph)-1]),2)))\n",
        "plt.legend()\n",
        "\n"
      ]
    },
    {
      "cell_type": "code",
      "source": [],
      "metadata": {
        "id": "E0dzV0qUwd-O"
      },
      "id": "E0dzV0qUwd-O",
      "execution_count": null,
      "outputs": []
    }
  ],
  "metadata": {
    "kernelspec": {
      "display_name": "Python 3",
      "language": "python",
      "name": "python3"
    },
    "language_info": {
      "codemirror_mode": {
        "name": "ipython",
        "version": 3
      },
      "file_extension": ".py",
      "mimetype": "text/x-python",
      "name": "python",
      "nbconvert_exporter": "python",
      "pygments_lexer": "ipython3",
      "version": "3.7.10"
    },
    "colab": {
      "provenance": []
    }
  },
  "nbformat": 4,
  "nbformat_minor": 5
}